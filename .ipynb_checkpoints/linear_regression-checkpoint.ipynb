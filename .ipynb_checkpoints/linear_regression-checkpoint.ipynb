{
 "cells": [
  {
   "cell_type": "markdown",
   "metadata": {},
   "source": [
    "# Step by Step Tutorial of Linear Regression and Data Understanding\n",
    "Here I am downloading a dataset that is focused on real estate house prediction. House prices tend to fluctuate. A lot of which has to do with the political and economic climate. Real estate price predictions also have a lot to do with locations, features, the time it was built and a lot of other factors. Below I will conduct exploratory data analysis to understand the data better. I will then look at the strongest correlations followed by feature selection for the strongest correlated variables. This will help me to create a strong linear regression model that will give us the strongest determining factors for real estate price predictions within this specific dataset.  "
   ]
  },
  {
   "cell_type": "code",
   "execution_count": 1,
   "metadata": {},
   "outputs": [],
   "source": [
    "#start by importing the necessary libraries\n",
    "import numpy as np \n",
    "\n",
    "import pandas as pd\n",
    "\n",
    "import matplotlib.pyplot as plt\n",
    "%matplotlib inline\n",
    "import seaborn as sns\n",
    "\n",
    "from sklearn.model_selection import train_test_split\n",
    "\n",
    "import folium\n",
    "from folium import plugins\n",
    "from folium.plugins import HeatMap"
   ]
  },
  {
   "cell_type": "markdown",
   "metadata": {},
   "source": [
    "# Import Data & Inspect"
   ]
  },
  {
   "cell_type": "code",
   "execution_count": 2,
   "metadata": {
    "scrolled": true
   },
   "outputs": [
    {
     "name": "stdout",
     "output_type": "stream",
     "text": [
      "(414, 8)\n",
      "Index(['No', 'X1 transaction date', 'X2 house age',\n",
      "       'X3 distance to the nearest MRT station',\n",
      "       'X4 number of convenience stores', 'X5 latitude', 'X6 longitude',\n",
      "       'Y house price of unit area'],\n",
      "      dtype='object')\n"
     ]
    },
    {
     "data": {
      "text/html": [
       "<div>\n",
       "<style scoped>\n",
       "    .dataframe tbody tr th:only-of-type {\n",
       "        vertical-align: middle;\n",
       "    }\n",
       "\n",
       "    .dataframe tbody tr th {\n",
       "        vertical-align: top;\n",
       "    }\n",
       "\n",
       "    .dataframe thead th {\n",
       "        text-align: right;\n",
       "    }\n",
       "</style>\n",
       "<table border=\"1\" class=\"dataframe\">\n",
       "  <thead>\n",
       "    <tr style=\"text-align: right;\">\n",
       "      <th></th>\n",
       "      <th>No</th>\n",
       "      <th>X1 transaction date</th>\n",
       "      <th>X2 house age</th>\n",
       "      <th>X3 distance to the nearest MRT station</th>\n",
       "      <th>X4 number of convenience stores</th>\n",
       "      <th>X5 latitude</th>\n",
       "      <th>X6 longitude</th>\n",
       "      <th>Y house price of unit area</th>\n",
       "    </tr>\n",
       "  </thead>\n",
       "  <tbody>\n",
       "    <tr>\n",
       "      <th>0</th>\n",
       "      <td>1</td>\n",
       "      <td>2012.917</td>\n",
       "      <td>32.0</td>\n",
       "      <td>84.87882</td>\n",
       "      <td>10</td>\n",
       "      <td>24.98298</td>\n",
       "      <td>121.54024</td>\n",
       "      <td>37.9</td>\n",
       "    </tr>\n",
       "    <tr>\n",
       "      <th>1</th>\n",
       "      <td>2</td>\n",
       "      <td>2012.917</td>\n",
       "      <td>19.5</td>\n",
       "      <td>306.59470</td>\n",
       "      <td>9</td>\n",
       "      <td>24.98034</td>\n",
       "      <td>121.53951</td>\n",
       "      <td>42.2</td>\n",
       "    </tr>\n",
       "    <tr>\n",
       "      <th>2</th>\n",
       "      <td>3</td>\n",
       "      <td>2013.583</td>\n",
       "      <td>13.3</td>\n",
       "      <td>561.98450</td>\n",
       "      <td>5</td>\n",
       "      <td>24.98746</td>\n",
       "      <td>121.54391</td>\n",
       "      <td>47.3</td>\n",
       "    </tr>\n",
       "    <tr>\n",
       "      <th>3</th>\n",
       "      <td>4</td>\n",
       "      <td>2013.500</td>\n",
       "      <td>13.3</td>\n",
       "      <td>561.98450</td>\n",
       "      <td>5</td>\n",
       "      <td>24.98746</td>\n",
       "      <td>121.54391</td>\n",
       "      <td>54.8</td>\n",
       "    </tr>\n",
       "    <tr>\n",
       "      <th>4</th>\n",
       "      <td>5</td>\n",
       "      <td>2012.833</td>\n",
       "      <td>5.0</td>\n",
       "      <td>390.56840</td>\n",
       "      <td>5</td>\n",
       "      <td>24.97937</td>\n",
       "      <td>121.54245</td>\n",
       "      <td>43.1</td>\n",
       "    </tr>\n",
       "  </tbody>\n",
       "</table>\n",
       "</div>"
      ],
      "text/plain": [
       "   No  X1 transaction date  X2 house age  \\\n",
       "0   1             2012.917          32.0   \n",
       "1   2             2012.917          19.5   \n",
       "2   3             2013.583          13.3   \n",
       "3   4             2013.500          13.3   \n",
       "4   5             2012.833           5.0   \n",
       "\n",
       "   X3 distance to the nearest MRT station  X4 number of convenience stores  \\\n",
       "0                                84.87882                               10   \n",
       "1                               306.59470                                9   \n",
       "2                               561.98450                                5   \n",
       "3                               561.98450                                5   \n",
       "4                               390.56840                                5   \n",
       "\n",
       "   X5 latitude  X6 longitude  Y house price of unit area  \n",
       "0     24.98298     121.54024                        37.9  \n",
       "1     24.98034     121.53951                        42.2  \n",
       "2     24.98746     121.54391                        47.3  \n",
       "3     24.98746     121.54391                        54.8  \n",
       "4     24.97937     121.54245                        43.1  "
      ]
     },
     "execution_count": 2,
     "metadata": {},
     "output_type": "execute_result"
    }
   ],
   "source": [
    "data = pd.read_csv('../linearregression/Real estate.csv')\n",
    "print(data.shape)\n",
    "print(data.keys())\n",
    "data.head()"
   ]
  },
  {
   "cell_type": "markdown",
   "metadata": {},
   "source": [
    "# Data Cleaning"
   ]
  },
  {
   "cell_type": "code",
   "execution_count": 3,
   "metadata": {},
   "outputs": [
    {
     "name": "stdout",
     "output_type": "stream",
     "text": [
      "(414, 8)\n"
     ]
    }
   ],
   "source": [
    "#remove any null values\n",
    "data = data.dropna() \n",
    "print(data.shape)"
   ]
  },
  {
   "cell_type": "code",
   "execution_count": 4,
   "metadata": {},
   "outputs": [
    {
     "data": {
      "text/plain": [
       "No                                          int64\n",
       "X1 transaction date                       float64\n",
       "X2 house age                              float64\n",
       "X3 distance to the nearest MRT station    float64\n",
       "X4 number of convenience stores             int64\n",
       "X5 latitude                               float64\n",
       "X6 longitude                              float64\n",
       "Y house price of unit area                float64\n",
       "dtype: object"
      ]
     },
     "execution_count": 4,
     "metadata": {},
     "output_type": "execute_result"
    }
   ],
   "source": [
    "data.dtypes"
   ]
  },
  {
   "cell_type": "code",
   "execution_count": 5,
   "metadata": {},
   "outputs": [],
   "source": [
    "#convert any float values to integars for future manipulation\n",
    "data['X1 transaction date'] = (data['X1 transaction date'].astype(int))\n",
    "data['X2 house age'] = (data['X2 house age'].astype(int))\n",
    "data['X3 distance to the nearest MRT station'] = (data['X3 distance to the nearest MRT station'].astype(int))\n"
   ]
  },
  {
   "cell_type": "code",
   "execution_count": 6,
   "metadata": {},
   "outputs": [
    {
     "data": {
      "text/html": [
       "<div>\n",
       "<style scoped>\n",
       "    .dataframe tbody tr th:only-of-type {\n",
       "        vertical-align: middle;\n",
       "    }\n",
       "\n",
       "    .dataframe tbody tr th {\n",
       "        vertical-align: top;\n",
       "    }\n",
       "\n",
       "    .dataframe thead th {\n",
       "        text-align: right;\n",
       "    }\n",
       "</style>\n",
       "<table border=\"1\" class=\"dataframe\">\n",
       "  <thead>\n",
       "    <tr style=\"text-align: right;\">\n",
       "      <th></th>\n",
       "      <th>No</th>\n",
       "      <th>X1 transaction date</th>\n",
       "      <th>X2 house age</th>\n",
       "      <th>X3 distance to the nearest MRT station</th>\n",
       "      <th>X4 number of convenience stores</th>\n",
       "      <th>X5 latitude</th>\n",
       "      <th>X6 longitude</th>\n",
       "      <th>Y house price of unit area</th>\n",
       "    </tr>\n",
       "  </thead>\n",
       "  <tbody>\n",
       "    <tr>\n",
       "      <th>0</th>\n",
       "      <td>1</td>\n",
       "      <td>2012</td>\n",
       "      <td>32</td>\n",
       "      <td>84</td>\n",
       "      <td>10</td>\n",
       "      <td>24.98298</td>\n",
       "      <td>121.54024</td>\n",
       "      <td>37.9</td>\n",
       "    </tr>\n",
       "    <tr>\n",
       "      <th>1</th>\n",
       "      <td>2</td>\n",
       "      <td>2012</td>\n",
       "      <td>19</td>\n",
       "      <td>306</td>\n",
       "      <td>9</td>\n",
       "      <td>24.98034</td>\n",
       "      <td>121.53951</td>\n",
       "      <td>42.2</td>\n",
       "    </tr>\n",
       "    <tr>\n",
       "      <th>2</th>\n",
       "      <td>3</td>\n",
       "      <td>2013</td>\n",
       "      <td>13</td>\n",
       "      <td>561</td>\n",
       "      <td>5</td>\n",
       "      <td>24.98746</td>\n",
       "      <td>121.54391</td>\n",
       "      <td>47.3</td>\n",
       "    </tr>\n",
       "    <tr>\n",
       "      <th>3</th>\n",
       "      <td>4</td>\n",
       "      <td>2013</td>\n",
       "      <td>13</td>\n",
       "      <td>561</td>\n",
       "      <td>5</td>\n",
       "      <td>24.98746</td>\n",
       "      <td>121.54391</td>\n",
       "      <td>54.8</td>\n",
       "    </tr>\n",
       "    <tr>\n",
       "      <th>4</th>\n",
       "      <td>5</td>\n",
       "      <td>2012</td>\n",
       "      <td>5</td>\n",
       "      <td>390</td>\n",
       "      <td>5</td>\n",
       "      <td>24.97937</td>\n",
       "      <td>121.54245</td>\n",
       "      <td>43.1</td>\n",
       "    </tr>\n",
       "  </tbody>\n",
       "</table>\n",
       "</div>"
      ],
      "text/plain": [
       "   No  X1 transaction date  X2 house age  \\\n",
       "0   1                 2012            32   \n",
       "1   2                 2012            19   \n",
       "2   3                 2013            13   \n",
       "3   4                 2013            13   \n",
       "4   5                 2012             5   \n",
       "\n",
       "   X3 distance to the nearest MRT station  X4 number of convenience stores  \\\n",
       "0                                      84                               10   \n",
       "1                                     306                                9   \n",
       "2                                     561                                5   \n",
       "3                                     561                                5   \n",
       "4                                     390                                5   \n",
       "\n",
       "   X5 latitude  X6 longitude  Y house price of unit area  \n",
       "0     24.98298     121.54024                        37.9  \n",
       "1     24.98034     121.53951                        42.2  \n",
       "2     24.98746     121.54391                        47.3  \n",
       "3     24.98746     121.54391                        54.8  \n",
       "4     24.97937     121.54245                        43.1  "
      ]
     },
     "execution_count": 6,
     "metadata": {},
     "output_type": "execute_result"
    }
   ],
   "source": [
    "data.head()"
   ]
  },
  {
   "cell_type": "code",
   "execution_count": 7,
   "metadata": {},
   "outputs": [
    {
     "data": {
      "text/plain": [
       "<bound method DataFrame.duplicated of       No  X1 transaction date  X2 house age  \\\n",
       "0      1                 2012            32   \n",
       "1      2                 2012            19   \n",
       "2      3                 2013            13   \n",
       "3      4                 2013            13   \n",
       "4      5                 2012             5   \n",
       "..   ...                  ...           ...   \n",
       "409  410                 2013            13   \n",
       "410  411                 2012             5   \n",
       "411  412                 2013            18   \n",
       "412  413                 2013             8   \n",
       "413  414                 2013             6   \n",
       "\n",
       "     X3 distance to the nearest MRT station  X4 number of convenience stores  \\\n",
       "0                                        84                               10   \n",
       "1                                       306                                9   \n",
       "2                                       561                                5   \n",
       "3                                       561                                5   \n",
       "4                                       390                                5   \n",
       "..                                      ...                              ...   \n",
       "409                                    4082                                0   \n",
       "410                                      90                                9   \n",
       "411                                     390                                7   \n",
       "412                                     104                                5   \n",
       "413                                      90                                9   \n",
       "\n",
       "     X5 latitude  X6 longitude  Y house price of unit area  \n",
       "0       24.98298     121.54024                        37.9  \n",
       "1       24.98034     121.53951                        42.2  \n",
       "2       24.98746     121.54391                        47.3  \n",
       "3       24.98746     121.54391                        54.8  \n",
       "4       24.97937     121.54245                        43.1  \n",
       "..           ...           ...                         ...  \n",
       "409     24.94155     121.50381                        15.4  \n",
       "410     24.97433     121.54310                        50.0  \n",
       "411     24.97923     121.53986                        40.6  \n",
       "412     24.96674     121.54067                        52.5  \n",
       "413     24.97433     121.54310                        63.9  \n",
       "\n",
       "[414 rows x 8 columns]>"
      ]
     },
     "execution_count": 7,
     "metadata": {},
     "output_type": "execute_result"
    }
   ],
   "source": [
    "#check for duplicates\n",
    "data_duplicates = data.duplicated\n",
    "data_duplicates"
   ]
  },
  {
   "cell_type": "code",
   "execution_count": 8,
   "metadata": {
    "scrolled": true
   },
   "outputs": [
    {
     "data": {
      "image/png": "[encoded data removed]",
      "text/plain": [
       "<Figure size 1296x360 with 6 Axes>"
      ]
     },
     "metadata": {
      "needs_background": "light"
     },
     "output_type": "display_data"
    }
   ],
   "source": [
    "#to help identify categorical variables I will create subplots of the features against the price\n",
    "fig, axes = plt.subplots(nrows=1, ncols=6, figsize=(18,5))\n",
    "\n",
    "for xcol, ax in zip(data[['X1 transaction date','X2 house age','X3 distance to the nearest MRT station','X4 number of convenience stores', 'X5 latitude', 'X6 longitude']], axes):\n",
    "    data.plot(kind='scatter', x=xcol, y='Y house price of unit area', ax=ax, alpha=0.4, color='r')"
   ]
  },
  {
   "cell_type": "markdown",
   "metadata": {},
   "source": [
    "# Exploratory Data Analysis"
   ]
  },
  {
   "cell_type": "code",
   "execution_count": 9,
   "metadata": {},
   "outputs": [
    {
     "data": {
      "text/plain": [
       "(414, 8)"
      ]
     },
     "execution_count": 9,
     "metadata": {},
     "output_type": "execute_result"
    }
   ],
   "source": [
    "#looking at the amount of data\n",
    "data.shape"
   ]
  },
  {
   "cell_type": "code",
   "execution_count": 10,
   "metadata": {},
   "outputs": [
    {
     "name": "stdout",
     "output_type": "stream",
     "text": [
      "Median House Age:  16.0\n",
      "Median Price Per Square Foot: $ 38.45\n"
     ]
    }
   ],
   "source": [
    "#checking the distribution\n",
    "print('Median House Age: ', data['X2 house age'].median())\n",
    "print('Median Price Per Square Foot: $', data['Y house price of unit area'].median())"
   ]
  },
  {
   "cell_type": "code",
   "execution_count": 11,
   "metadata": {},
   "outputs": [
    {
     "data": {
      "text/plain": [
       "(0.0, 200.0)"
      ]
     },
     "execution_count": 11,
     "metadata": {},
     "output_type": "execute_result"
    },
    {
     "data": {
      "image/png": "[encoded data removed]",
      "text/plain": [
       "<Figure size 864x576 with 1 Axes>"
      ]
     },
     "metadata": {
      "needs_background": "light"
     },
     "output_type": "display_data"
    }
   ],
   "source": [
    "# How are price per unit area distributed ?\n",
    "# A histogram showing distribution of price \n",
    "fig, ax = plt.subplots(figsize=(12,8))\n",
    "\n",
    "sns.kdeplot(data['Y house price of unit area'], shade=True, color='navy',alpha=0.8)\n",
    "sns.despine()\n",
    "\n",
    "plt.yticks([])\n",
    "ax.tick_params(axis='both', which='major', labelsize=15)\n",
    "\n",
    "ax.set_title('House Price Per Unit Area Distribution', fontsize=25, loc='center', weight='bold', pad=20)\n",
    "ax.set_xlabel('Price ($)', fontsize=18, weight='bold')\n",
    "ax.set_ylabel('Count', fontsize=18, weight='bold')\n",
    "\n",
    "plt.xlim(0,200)"
   ]
  },
  {
   "cell_type": "code",
   "execution_count": 12,
   "metadata": {},
   "outputs": [],
   "source": [
    "# Preparing the data for a heatmap visualisation of house price per unit sales across\n",
    "# This will give us an overview of the distribution of price across the geography in question\n",
    "\n",
    "price = data['Y house price of unit area'].tolist()\n",
    "latitude = data['X5 latitude'].tolist()\n",
    "longitude = data['X6 longitude'].tolist()\n",
    "\n",
    "price_multiple = []\n",
    "for x in price:\n",
    "    price_multiple.append(x/10)"
   ]
  },
  {
   "cell_type": "code",
   "execution_count": 13,
   "metadata": {},
   "outputs": [
    {
     "data": {
      "text/plain": [
       "[3.79,\n",
       " 4.220000000000001,\n",
       " 4.7299999999999995,\n",
       " 5.4799999999999995,\n",
       " 4.3100000000000005,\n",
       " 3.21,\n",
       " 4.029999999999999,\n",
       " 4.67,\n",
       " 1.8800000000000001,\n",
       " 2.21,\n",
       " 4.14,\n",
       " 5.8100000000000005,\n",
       " 3.9299999999999997,\n",
       " 2.38,\n",
       " 3.4299999999999997,\n",
       " 5.05,\n",
       " 7.01,\n",
       " 3.7399999999999998,\n",
       " 4.2299999999999995,\n",
       " 4.7700000000000005,\n",
       " 2.93,\n",
       " 5.16,\n",
       " 2.46,\n",
       " 4.79,\n",
       " 3.88,\n",
       " 2.7,\n",
       " 5.62,\n",
       " 3.3600000000000003,\n",
       " 4.7,\n",
       " 5.71,\n",
       " 2.21,\n",
       " 2.5,\n",
       " 3.4200000000000004,\n",
       " 4.93,\n",
       " 5.51,\n",
       " 2.73,\n",
       " 2.29,\n",
       " 2.5300000000000002,\n",
       " 4.7700000000000005,\n",
       " 4.62,\n",
       " 1.59,\n",
       " 1.8199999999999998,\n",
       " 3.47,\n",
       " 3.41,\n",
       " 5.39,\n",
       " 3.8299999999999996,\n",
       " 4.2,\n",
       " 6.15,\n",
       " 1.34,\n",
       " 1.3199999999999998,\n",
       " 4.42,\n",
       " 2.07,\n",
       " 2.7,\n",
       " 3.8899999999999997,\n",
       " 5.17,\n",
       " 1.3699999999999999,\n",
       " 4.1899999999999995,\n",
       " 5.35,\n",
       " 2.2600000000000002,\n",
       " 4.24,\n",
       " 2.13,\n",
       " 6.32,\n",
       " 2.77,\n",
       " 5.5,\n",
       " 2.5300000000000002,\n",
       " 4.43,\n",
       " 5.07,\n",
       " 5.68,\n",
       " 3.62,\n",
       " 4.2,\n",
       " 5.9,\n",
       " 4.08,\n",
       " 3.63,\n",
       " 2.0,\n",
       " 5.4399999999999995,\n",
       " 2.95,\n",
       " 3.6799999999999997,\n",
       " 2.56,\n",
       " 2.98,\n",
       " 2.65,\n",
       " 4.029999999999999,\n",
       " 3.6799999999999997,\n",
       " 4.8100000000000005,\n",
       " 1.77,\n",
       " 4.37,\n",
       " 5.08,\n",
       " 2.7,\n",
       " 1.83,\n",
       " 4.8,\n",
       " 2.5300000000000002,\n",
       " 4.54,\n",
       " 4.32,\n",
       " 2.18,\n",
       " 1.61,\n",
       " 4.1,\n",
       " 5.18,\n",
       " 5.95,\n",
       " 3.46,\n",
       " 5.1,\n",
       " 6.220000000000001,\n",
       " 3.8200000000000003,\n",
       " 3.29,\n",
       " 5.4399999999999995,\n",
       " 4.57,\n",
       " 3.05,\n",
       " 7.1,\n",
       " 4.71,\n",
       " 2.66,\n",
       " 3.41,\n",
       " 2.84,\n",
       " 5.16,\n",
       " 3.94,\n",
       " 2.31,\n",
       " 0.76,\n",
       " 5.33,\n",
       " 4.64,\n",
       " 1.22,\n",
       " 1.3,\n",
       " 3.06,\n",
       " 5.96,\n",
       " 3.13,\n",
       " 4.8,\n",
       " 3.25,\n",
       " 4.55,\n",
       " 5.74,\n",
       " 4.86,\n",
       " 6.29,\n",
       " 5.5,\n",
       " 6.07,\n",
       " 4.1,\n",
       " 3.75,\n",
       " 3.07,\n",
       " 3.75,\n",
       " 3.95,\n",
       " 4.220000000000001,\n",
       " 2.08,\n",
       " 4.68,\n",
       " 4.74,\n",
       " 4.35,\n",
       " 4.25,\n",
       " 5.14,\n",
       " 2.8899999999999997,\n",
       " 3.75,\n",
       " 4.01,\n",
       " 2.84,\n",
       " 4.55,\n",
       " 5.220000000000001,\n",
       " 4.32,\n",
       " 4.51,\n",
       " 3.97,\n",
       " 4.85,\n",
       " 4.470000000000001,\n",
       " 2.8899999999999997,\n",
       " 4.09,\n",
       " 2.07,\n",
       " 1.56,\n",
       " 1.83,\n",
       " 3.56,\n",
       " 3.94,\n",
       " 3.7399999999999998,\n",
       " 5.779999999999999,\n",
       " 3.96,\n",
       " 1.16,\n",
       " 5.55,\n",
       " 5.5200000000000005,\n",
       " 3.06,\n",
       " 7.359999999999999,\n",
       " 4.34,\n",
       " 3.7399999999999998,\n",
       " 2.35,\n",
       " 1.44,\n",
       " 5.88,\n",
       " 5.8100000000000005,\n",
       " 3.5100000000000002,\n",
       " 4.5200000000000005,\n",
       " 3.65,\n",
       " 1.92,\n",
       " 4.2,\n",
       " 3.6700000000000004,\n",
       " 4.26,\n",
       " 1.55,\n",
       " 5.59,\n",
       " 2.3600000000000003,\n",
       " 1.8800000000000001,\n",
       " 2.18,\n",
       " 2.15,\n",
       " 2.57,\n",
       " 2.2,\n",
       " 4.43,\n",
       " 2.05,\n",
       " 4.2299999999999995,\n",
       " 3.78,\n",
       " 4.2700000000000005,\n",
       " 4.93,\n",
       " 2.93,\n",
       " 3.46,\n",
       " 3.66,\n",
       " 4.82,\n",
       " 3.91,\n",
       " 3.16,\n",
       " 2.55,\n",
       " 4.59,\n",
       " 3.15,\n",
       " 4.61,\n",
       " 2.66,\n",
       " 2.1399999999999997,\n",
       " 4.4,\n",
       " 3.4200000000000004,\n",
       " 2.62,\n",
       " 4.09,\n",
       " 5.220000000000001,\n",
       " 4.35,\n",
       " 3.1100000000000003,\n",
       " 5.8,\n",
       " 2.09,\n",
       " 4.8100000000000005,\n",
       " 3.97,\n",
       " 4.08,\n",
       " 4.38,\n",
       " 4.0200000000000005,\n",
       " 7.83,\n",
       " 3.85,\n",
       " 4.85,\n",
       " 4.2299999999999995,\n",
       " 4.6,\n",
       " 4.9,\n",
       " 1.28,\n",
       " 4.0200000000000005,\n",
       " 4.66,\n",
       " 1.9,\n",
       " 3.34,\n",
       " 1.47,\n",
       " 1.7399999999999998,\n",
       " 3.2399999999999998,\n",
       " 2.3899999999999997,\n",
       " 3.9299999999999997,\n",
       " 6.1899999999999995,\n",
       " 3.9,\n",
       " 4.0600000000000005,\n",
       " 2.9699999999999998,\n",
       " 2.88,\n",
       " 4.14,\n",
       " 3.34,\n",
       " 4.82,\n",
       " 2.17,\n",
       " 4.08,\n",
       " 4.0600000000000005,\n",
       " 2.31,\n",
       " 2.23,\n",
       " 1.5,\n",
       " 3.0,\n",
       " 1.3800000000000001,\n",
       " 5.2700000000000005,\n",
       " 2.59,\n",
       " 5.18,\n",
       " 1.7399999999999998,\n",
       " 2.65,\n",
       " 4.39,\n",
       " 6.33,\n",
       " 2.88,\n",
       " 3.07,\n",
       " 2.44,\n",
       " 5.3,\n",
       " 3.17,\n",
       " 4.0600000000000005,\n",
       " 3.81,\n",
       " 2.37,\n",
       " 4.11,\n",
       " 4.01,\n",
       " 2.3,\n",
       " 11.75,\n",
       " 2.65,\n",
       " 4.05,\n",
       " 2.93,\n",
       " 4.1,\n",
       " 4.970000000000001,\n",
       " 3.4,\n",
       " 2.77,\n",
       " 4.4,\n",
       " 3.1100000000000003,\n",
       " 4.54,\n",
       " 4.4799999999999995,\n",
       " 2.56,\n",
       " 2.35,\n",
       " 3.44,\n",
       " 5.529999999999999,\n",
       " 5.63,\n",
       " 3.29,\n",
       " 5.1,\n",
       " 4.45,\n",
       " 3.7,\n",
       " 5.4399999999999995,\n",
       " 2.45,\n",
       " 4.25,\n",
       " 3.81,\n",
       " 2.18,\n",
       " 3.41,\n",
       " 2.85,\n",
       " 1.67,\n",
       " 4.61,\n",
       " 3.69,\n",
       " 3.5700000000000003,\n",
       " 2.32,\n",
       " 3.84,\n",
       " 2.94,\n",
       " 5.5,\n",
       " 5.0200000000000005,\n",
       " 2.4699999999999998,\n",
       " 5.3,\n",
       " 1.9100000000000001,\n",
       " 2.4699999999999998,\n",
       " 4.220000000000001,\n",
       " 7.8,\n",
       " 4.279999999999999,\n",
       " 4.16,\n",
       " 2.73,\n",
       " 4.2,\n",
       " 3.75,\n",
       " 4.9799999999999995,\n",
       " 2.69,\n",
       " 1.86,\n",
       " 3.7700000000000005,\n",
       " 3.31,\n",
       " 4.25,\n",
       " 3.13,\n",
       " 3.81,\n",
       " 6.21,\n",
       " 3.6700000000000004,\n",
       " 2.3600000000000003,\n",
       " 1.92,\n",
       " 1.28,\n",
       " 1.56,\n",
       " 3.96,\n",
       " 3.84,\n",
       " 2.2800000000000002,\n",
       " 3.65,\n",
       " 3.56,\n",
       " 3.09,\n",
       " 3.63,\n",
       " 5.04,\n",
       " 4.29,\n",
       " 3.7,\n",
       " 5.35,\n",
       " 4.66,\n",
       " 4.12,\n",
       " 3.79,\n",
       " 3.08,\n",
       " 1.1199999999999999,\n",
       " 5.37,\n",
       " 4.7,\n",
       " 4.2299999999999995,\n",
       " 2.8600000000000003,\n",
       " 2.57,\n",
       " 3.13,\n",
       " 3.0100000000000002,\n",
       " 6.07,\n",
       " 4.529999999999999,\n",
       " 4.49,\n",
       " 4.51,\n",
       " 2.4699999999999998,\n",
       " 4.71,\n",
       " 6.33,\n",
       " 4.0,\n",
       " 4.8,\n",
       " 3.31,\n",
       " 2.95,\n",
       " 2.48,\n",
       " 2.09,\n",
       " 4.3100000000000005,\n",
       " 2.2800000000000002,\n",
       " 4.21,\n",
       " 5.17,\n",
       " 4.15,\n",
       " 5.220000000000001,\n",
       " 4.95,\n",
       " 2.38,\n",
       " 3.05,\n",
       " 5.68,\n",
       " 3.7399999999999998,\n",
       " 6.970000000000001,\n",
       " 5.33,\n",
       " 4.7299999999999995,\n",
       " 2.93,\n",
       " 4.029999999999999,\n",
       " 1.29,\n",
       " 4.66,\n",
       " 5.529999999999999,\n",
       " 2.56,\n",
       " 2.73,\n",
       " 6.7700000000000005,\n",
       " 3.8600000000000003,\n",
       " 3.13,\n",
       " 3.53,\n",
       " 4.029999999999999,\n",
       " 2.4699999999999998,\n",
       " 4.25,\n",
       " 3.19,\n",
       " 3.22,\n",
       " 2.3,\n",
       " 3.7299999999999995,\n",
       " 3.55,\n",
       " 2.77,\n",
       " 2.85,\n",
       " 3.97,\n",
       " 4.12,\n",
       " 3.72,\n",
       " 4.05,\n",
       " 2.23,\n",
       " 2.81,\n",
       " 1.54,\n",
       " 5.0,\n",
       " 4.0600000000000005,\n",
       " 5.25,\n",
       " 6.39]"
      ]
     },
     "execution_count": 13,
     "metadata": {},
     "output_type": "execute_result"
    }
   ],
   "source": [
    "price_multiple"
   ]
  },
  {
   "cell_type": "code",
   "execution_count": 14,
   "metadata": {},
   "outputs": [],
   "source": [
    "coords_and_weights = zip(latitude, longitude, price_multiple)\n"
   ]
  },
  {
   "cell_type": "code",
   "execution_count": 15,
   "metadata": {},
   "outputs": [
    {
     "data": {
      "text/html": [
       "<div style=\"width:100%;\"><div style=\"position:relative;width:100%;height:0;padding-bottom:60%;\"><iframe src=\"about:blank\" style=\"position:absolute;width:100%;height:100%;left:0;top:0;border:none !important;\" data-html=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 onload=\"this.contentDocument.open();this.contentDocument.write(atob(this.getAttribute('data-html')));this.contentDocument.close();\" allowfullscreen webkitallowfullscreen mozallowfullscreen></iframe></div></div>"
      ],
      "text/plain": [
       "<folium.folium.Map at 0x7fc9db9ab290>"
      ]
     },
     "execution_count": 15,
     "metadata": {},
     "output_type": "execute_result"
    }
   ],
   "source": [
    "# An interactive sale price heatmap\n",
    "heat_map = folium.Map([47.477993, -122.206452],\n",
    "                     zoom_start = 11.5)\n",
    "heat_map\n",
    "HeatMap(coords_and_weights,radius=15).add_to(heat_map)\n",
    "heat_map"
   ]
  },
  {
   "cell_type": "markdown",
   "metadata": {},
   "source": [
    "# A Closer Look At The Feature Variables\n",
    "\n"
   ]
  },
  {
   "cell_type": "markdown",
   "metadata": {},
   "source": [
    "## Distribution"
   ]
  },
  {
   "cell_type": "code",
   "execution_count": 16,
   "metadata": {
    "scrolled": true
   },
   "outputs": [
    {
     "name": "stdout",
     "output_type": "stream",
     "text": [
      "Index(['No', 'X1 transaction date', 'X2 house age',\n",
      "       'X3 distance to the nearest MRT station',\n",
      "       'X4 number of convenience stores', 'X5 latitude', 'X6 longitude',\n",
      "       'Y house price of unit area'],\n",
      "      dtype='object')\n"
     ]
    },
    {
     "data": {
      "text/html": [
       "<div>\n",
       "<style scoped>\n",
       "    .dataframe tbody tr th:only-of-type {\n",
       "        vertical-align: middle;\n",
       "    }\n",
       "\n",
       "    .dataframe tbody tr th {\n",
       "        vertical-align: top;\n",
       "    }\n",
       "\n",
       "    .dataframe thead th {\n",
       "        text-align: right;\n",
       "    }\n",
       "</style>\n",
       "<table border=\"1\" class=\"dataframe\">\n",
       "  <thead>\n",
       "    <tr style=\"text-align: right;\">\n",
       "      <th></th>\n",
       "      <th>No</th>\n",
       "      <th>X1 transaction date</th>\n",
       "      <th>X2 house age</th>\n",
       "      <th>X3 distance to the nearest MRT station</th>\n",
       "      <th>X4 number of convenience stores</th>\n",
       "      <th>X5 latitude</th>\n",
       "      <th>X6 longitude</th>\n",
       "      <th>Y house price of unit area</th>\n",
       "    </tr>\n",
       "  </thead>\n",
       "  <tbody>\n",
       "    <tr>\n",
       "      <th>0</th>\n",
       "      <td>1</td>\n",
       "      <td>2012</td>\n",
       "      <td>32</td>\n",
       "      <td>84</td>\n",
       "      <td>10</td>\n",
       "      <td>24.98298</td>\n",
       "      <td>121.54024</td>\n",
       "      <td>37.9</td>\n",
       "    </tr>\n",
       "    <tr>\n",
       "      <th>1</th>\n",
       "      <td>2</td>\n",
       "      <td>2012</td>\n",
       "      <td>19</td>\n",
       "      <td>306</td>\n",
       "      <td>9</td>\n",
       "      <td>24.98034</td>\n",
       "      <td>121.53951</td>\n",
       "      <td>42.2</td>\n",
       "    </tr>\n",
       "    <tr>\n",
       "      <th>2</th>\n",
       "      <td>3</td>\n",
       "      <td>2013</td>\n",
       "      <td>13</td>\n",
       "      <td>561</td>\n",
       "      <td>5</td>\n",
       "      <td>24.98746</td>\n",
       "      <td>121.54391</td>\n",
       "      <td>47.3</td>\n",
       "    </tr>\n",
       "    <tr>\n",
       "      <th>3</th>\n",
       "      <td>4</td>\n",
       "      <td>2013</td>\n",
       "      <td>13</td>\n",
       "      <td>561</td>\n",
       "      <td>5</td>\n",
       "      <td>24.98746</td>\n",
       "      <td>121.54391</td>\n",
       "      <td>54.8</td>\n",
       "    </tr>\n",
       "    <tr>\n",
       "      <th>4</th>\n",
       "      <td>5</td>\n",
       "      <td>2012</td>\n",
       "      <td>5</td>\n",
       "      <td>390</td>\n",
       "      <td>5</td>\n",
       "      <td>24.97937</td>\n",
       "      <td>121.54245</td>\n",
       "      <td>43.1</td>\n",
       "    </tr>\n",
       "  </tbody>\n",
       "</table>\n",
       "</div>"
      ],
      "text/plain": [
       "   No  X1 transaction date  X2 house age  \\\n",
       "0   1                 2012            32   \n",
       "1   2                 2012            19   \n",
       "2   3                 2013            13   \n",
       "3   4                 2013            13   \n",
       "4   5                 2012             5   \n",
       "\n",
       "   X3 distance to the nearest MRT station  X4 number of convenience stores  \\\n",
       "0                                      84                               10   \n",
       "1                                     306                                9   \n",
       "2                                     561                                5   \n",
       "3                                     561                                5   \n",
       "4                                     390                                5   \n",
       "\n",
       "   X5 latitude  X6 longitude  Y house price of unit area  \n",
       "0     24.98298     121.54024                        37.9  \n",
       "1     24.98034     121.53951                        42.2  \n",
       "2     24.98746     121.54391                        47.3  \n",
       "3     24.98746     121.54391                        54.8  \n",
       "4     24.97937     121.54245                        43.1  "
      ]
     },
     "execution_count": 16,
     "metadata": {},
     "output_type": "execute_result"
    }
   ],
   "source": [
    "print(data.keys())\n",
    "data.head()"
   ]
  },
  {
   "cell_type": "code",
   "execution_count": 17,
   "metadata": {},
   "outputs": [
    {
     "data": {
      "image/png": "[encoded data removed]",
      "text/plain": [
       "<Figure size 1152x720 with 2 Axes>"
      ]
     },
     "metadata": {
      "needs_background": "light"
     },
     "output_type": "display_data"
    }
   ],
   "source": [
    "#Multicollinearity \n",
    "data_multicollinearity = data.drop(['No'], axis = 1)\n",
    "\n",
    "fig, ax = plt.subplots(figsize=(16,10))\n",
    "sns.heatmap(data_multicollinearity.corr(), center=0, annot=True)\n",
    "\n",
    "ax.set_title('Feature Correlation Matrix', fontsize=25, loc='center', weight='bold', pad =15)\n",
    "ax.set_xlabel('Features', fontsize = 14, weight='bold')\n",
    "ax.tick_params(axis='both', which='major', labelsize=13)\n",
    "\n",
    "plt.autoscale()\n",
    "plt.show()\n",
    "\n"
   ]
  },
  {
   "cell_type": "code",
   "execution_count": 18,
   "metadata": {},
   "outputs": [
    {
     "data": {
      "text/plain": [
       "117.5"
      ]
     },
     "execution_count": 18,
     "metadata": {},
     "output_type": "execute_result"
    }
   ],
   "source": [
    "data['Y house price of unit area'].max()"
   ]
  },
  {
   "cell_type": "code",
   "execution_count": 19,
   "metadata": {},
   "outputs": [
    {
     "data": {
      "image/png": "[encoded data removed]",
      "text/plain": [
       "<Figure size 1008x720 with 1 Axes>"
      ]
     },
     "metadata": {
      "needs_background": "light"
     },
     "output_type": "display_data"
    }
   ],
   "source": [
    "# A boxplot showing the variance of the feature as it increases (heteroscedacity) - need to watch out \n",
    "# in later steps\n",
    "\n",
    "var = 'X4 number of convenience stores'\n",
    "feature_var_data = pd.concat([data['Y house price of unit area'], data[var]], axis=1)\n",
    "\n",
    "f, ax = plt.subplots(figsize=(14, 10))\n",
    "fig = sns.boxplot(x=var, y = 'Y house price of unit area', data=feature_var_data, palette='dark')\n",
    "\n",
    "ax.set_title('Feature Variance: ', fontsize=25, loc='center', weight='bold', pad=10)\n",
    "ax.set_xlabel('X4 number of convenient stores', fontsize=14, weight='bold')\n",
    "ax.set_ylabel('Y house price of unit area', fontsize=14, weight='bold')\n",
    "ax.tick_params(axis='both', which='major', labelsize=13)\n",
    "\n",
    "sns.despine()\n",
    "fig.axis(ymin=0, ymax=120);"
   ]
  },
  {
   "cell_type": "markdown",
   "metadata": {},
   "source": [
    "# Modelling the Data"
   ]
  },
  {
   "cell_type": "code",
   "execution_count": 20,
   "metadata": {},
   "outputs": [
    {
     "name": "stderr",
     "output_type": "stream",
     "text": [
      "/usr/local/anaconda3/lib/python3.7/site-packages/statsmodels/tools/_testing.py:19: FutureWarning: pandas.util.testing is deprecated. Use the functions in the public API at pandas.testing instead.\n",
      "  import pandas.util.testing as tm\n"
     ]
    }
   ],
   "source": [
    "#import packages\n",
    "import statsmodels.api as sm\n",
    "from sklearn.model_selection import train_test_split, KFold, cross_validate\n",
    "from sklearn.linear_model import LinearRegression \n"
   ]
  },
  {
   "cell_type": "code",
   "execution_count": 21,
   "metadata": {},
   "outputs": [
    {
     "data": {
      "text/html": [
       "<div>\n",
       "<style scoped>\n",
       "    .dataframe tbody tr th:only-of-type {\n",
       "        vertical-align: middle;\n",
       "    }\n",
       "\n",
       "    .dataframe tbody tr th {\n",
       "        vertical-align: top;\n",
       "    }\n",
       "\n",
       "    .dataframe thead th {\n",
       "        text-align: right;\n",
       "    }\n",
       "</style>\n",
       "<table border=\"1\" class=\"dataframe\">\n",
       "  <thead>\n",
       "    <tr style=\"text-align: right;\">\n",
       "      <th></th>\n",
       "      <th>No</th>\n",
       "      <th>X1 transaction date</th>\n",
       "      <th>X2 house age</th>\n",
       "      <th>X3 distance to the nearest MRT station</th>\n",
       "      <th>X4 number of convenience stores</th>\n",
       "      <th>X5 latitude</th>\n",
       "      <th>X6 longitude</th>\n",
       "      <th>Y house price of unit area</th>\n",
       "    </tr>\n",
       "  </thead>\n",
       "  <tbody>\n",
       "    <tr>\n",
       "      <th>0</th>\n",
       "      <td>1</td>\n",
       "      <td>2012</td>\n",
       "      <td>32</td>\n",
       "      <td>84</td>\n",
       "      <td>10</td>\n",
       "      <td>24.98298</td>\n",
       "      <td>121.54024</td>\n",
       "      <td>37.9</td>\n",
       "    </tr>\n",
       "    <tr>\n",
       "      <th>1</th>\n",
       "      <td>2</td>\n",
       "      <td>2012</td>\n",
       "      <td>19</td>\n",
       "      <td>306</td>\n",
       "      <td>9</td>\n",
       "      <td>24.98034</td>\n",
       "      <td>121.53951</td>\n",
       "      <td>42.2</td>\n",
       "    </tr>\n",
       "    <tr>\n",
       "      <th>2</th>\n",
       "      <td>3</td>\n",
       "      <td>2013</td>\n",
       "      <td>13</td>\n",
       "      <td>561</td>\n",
       "      <td>5</td>\n",
       "      <td>24.98746</td>\n",
       "      <td>121.54391</td>\n",
       "      <td>47.3</td>\n",
       "    </tr>\n",
       "    <tr>\n",
       "      <th>3</th>\n",
       "      <td>4</td>\n",
       "      <td>2013</td>\n",
       "      <td>13</td>\n",
       "      <td>561</td>\n",
       "      <td>5</td>\n",
       "      <td>24.98746</td>\n",
       "      <td>121.54391</td>\n",
       "      <td>54.8</td>\n",
       "    </tr>\n",
       "    <tr>\n",
       "      <th>4</th>\n",
       "      <td>5</td>\n",
       "      <td>2012</td>\n",
       "      <td>5</td>\n",
       "      <td>390</td>\n",
       "      <td>5</td>\n",
       "      <td>24.97937</td>\n",
       "      <td>121.54245</td>\n",
       "      <td>43.1</td>\n",
       "    </tr>\n",
       "  </tbody>\n",
       "</table>\n",
       "</div>"
      ],
      "text/plain": [
       "   No  X1 transaction date  X2 house age  \\\n",
       "0   1                 2012            32   \n",
       "1   2                 2012            19   \n",
       "2   3                 2013            13   \n",
       "3   4                 2013            13   \n",
       "4   5                 2012             5   \n",
       "\n",
       "   X3 distance to the nearest MRT station  X4 number of convenience stores  \\\n",
       "0                                      84                               10   \n",
       "1                                     306                                9   \n",
       "2                                     561                                5   \n",
       "3                                     561                                5   \n",
       "4                                     390                                5   \n",
       "\n",
       "   X5 latitude  X6 longitude  Y house price of unit area  \n",
       "0     24.98298     121.54024                        37.9  \n",
       "1     24.98034     121.53951                        42.2  \n",
       "2     24.98746     121.54391                        47.3  \n",
       "3     24.98746     121.54391                        54.8  \n",
       "4     24.97937     121.54245                        43.1  "
      ]
     },
     "execution_count": 21,
     "metadata": {},
     "output_type": "execute_result"
    }
   ],
   "source": [
    "data.head()"
   ]
  },
  {
   "cell_type": "code",
   "execution_count": 22,
   "metadata": {},
   "outputs": [],
   "source": [
    "# X variables will contain our continuous and discrete features - we drop the dependent as well as non-predictors\n",
    "X_base = data.drop(['Y house price of unit area'], axis = 1)\n",
    "\n",
    "# Y variable is the dependent variable - what we want to predict\n",
    "Y_base = data[['Y house price of unit area']]"
   ]
  },
  {
   "cell_type": "code",
   "execution_count": 23,
   "metadata": {},
   "outputs": [
    {
     "name": "stdout",
     "output_type": "stream",
     "text": [
      "(331, 7)\n",
      "(83, 7)\n",
      "(331, 1)\n",
      "(83, 1)\n"
     ]
    }
   ],
   "source": [
    "X_train, X_test, Y_train, Y_test = train_test_split(X_base, Y_base, test_size=.2, random_state=7)\n",
    "X_train = X_train.copy()\n",
    "X_test = X_test.copy()\n",
    "Y_train = Y_train.copy()\n",
    "Y_test = Y_test.copy()\n",
    "\n",
    "print(X_train.shape)\n",
    "print(X_test.shape)\n",
    "print(Y_train.shape)\n",
    "print(Y_test.shape)"
   ]
  },
  {
   "cell_type": "code",
   "execution_count": 24,
   "metadata": {},
   "outputs": [],
   "source": [
    "#Statsmodels for Ordinary Least Square for the training set\n",
    "#adding in a constant to fit both the slope and intercept\n",
    "X_train_constant = sm.add_constant(X_train)\n",
    "base_training_model = sm.OLS(Y_train, X_train_constant);"
   ]
  },
  {
   "cell_type": "code",
   "execution_count": 25,
   "metadata": {},
   "outputs": [],
   "source": [
    "training_results = base_training_model.fit()"
   ]
  },
  {
   "cell_type": "code",
   "execution_count": 26,
   "metadata": {},
   "outputs": [
    {
     "name": "stdout",
     "output_type": "stream",
     "text": [
      "Training Data R-Squared: 0.585\n"
     ]
    },
    {
     "data": {
      "text/html": [
       "<table class=\"simpletable\">\n",
       "<caption>OLS Regression Results</caption>\n",
       "<tr>\n",
       "  <th>Dep. Variable:</th>    <td>Y house price of unit area</td> <th>  R-squared:         </th> <td>   0.585</td>\n",
       "</tr>\n",
       "<tr>\n",
       "  <th>Model:</th>                        <td>OLS</td>            <th>  Adj. R-squared:    </th> <td>   0.576</td>\n",
       "</tr>\n",
       "<tr>\n",
       "  <th>Method:</th>                  <td>Least Squares</td>       <th>  F-statistic:       </th> <td>   64.99</td>\n",
       "</tr>\n",
       "<tr>\n",
       "  <th>Date:</th>                  <td>Tue, 16 Mar 2021</td>      <th>  Prob (F-statistic):</th> <td>6.05e-58</td>\n",
       "</tr>\n",
       "<tr>\n",
       "  <th>Time:</th>                      <td>18:09:07</td>          <th>  Log-Likelihood:    </th> <td> -1202.8</td>\n",
       "</tr>\n",
       "<tr>\n",
       "  <th>No. Observations:</th>           <td>   331</td>           <th>  AIC:               </th> <td>   2422.</td>\n",
       "</tr>\n",
       "<tr>\n",
       "  <th>Df Residuals:</th>               <td>   323</td>           <th>  BIC:               </th> <td>   2452.</td>\n",
       "</tr>\n",
       "<tr>\n",
       "  <th>Df Model:</th>                   <td>     7</td>           <th>                     </th>     <td> </td>   \n",
       "</tr>\n",
       "<tr>\n",
       "  <th>Covariance Type:</th>           <td>nonrobust</td>         <th>                     </th>     <td> </td>   \n",
       "</tr>\n",
       "</table>\n",
       "<table class=\"simpletable\">\n",
       "<tr>\n",
       "                     <td></td>                       <th>coef</th>     <th>std err</th>      <th>t</th>      <th>P>|t|</th>  <th>[0.025</th>    <th>0.975]</th>  \n",
       "</tr>\n",
       "<tr>\n",
       "  <th>const</th>                                  <td>-8369.2102</td> <td> 7488.265</td> <td>   -1.118</td> <td> 0.265</td> <td>-2.31e+04</td> <td> 6362.720</td>\n",
       "</tr>\n",
       "<tr>\n",
       "  <th>No</th>                                     <td>   -0.0041</td> <td>    0.004</td> <td>   -0.961</td> <td> 0.337</td> <td>   -0.012</td> <td>    0.004</td>\n",
       "</tr>\n",
       "<tr>\n",
       "  <th>X1 transaction date</th>                    <td>    3.1645</td> <td>    1.086</td> <td>    2.913</td> <td> 0.004</td> <td>    1.027</td> <td>    5.302</td>\n",
       "</tr>\n",
       "<tr>\n",
       "  <th>X2 house age</th>                           <td>   -0.2733</td> <td>    0.045</td> <td>   -6.089</td> <td> 0.000</td> <td>   -0.362</td> <td>   -0.185</td>\n",
       "</tr>\n",
       "<tr>\n",
       "  <th>X3 distance to the nearest MRT station</th> <td>   -0.0047</td> <td>    0.001</td> <td>   -5.614</td> <td> 0.000</td> <td>   -0.006</td> <td>   -0.003</td>\n",
       "</tr>\n",
       "<tr>\n",
       "  <th>X4 number of convenience stores</th>        <td>    1.2043</td> <td>    0.218</td> <td>    5.531</td> <td> 0.000</td> <td>    0.776</td> <td>    1.633</td>\n",
       "</tr>\n",
       "<tr>\n",
       "  <th>X5 latitude</th>                            <td>  242.8168</td> <td>   52.630</td> <td>    4.614</td> <td> 0.000</td> <td>  139.275</td> <td>  346.358</td>\n",
       "</tr>\n",
       "<tr>\n",
       "  <th>X6 longitude</th>                           <td>  -33.0706</td> <td>   57.752</td> <td>   -0.573</td> <td> 0.567</td> <td> -146.689</td> <td>   80.548</td>\n",
       "</tr>\n",
       "</table>\n",
       "<table class=\"simpletable\">\n",
       "<tr>\n",
       "  <th>Omnibus:</th>       <td>196.613</td> <th>  Durbin-Watson:     </th> <td>   2.014</td>\n",
       "</tr>\n",
       "<tr>\n",
       "  <th>Prob(Omnibus):</th> <td> 0.000</td>  <th>  Jarque-Bera (JB):  </th> <td>3108.635</td>\n",
       "</tr>\n",
       "<tr>\n",
       "  <th>Skew:</th>          <td> 2.115</td>  <th>  Prob(JB):          </th> <td>    0.00</td>\n",
       "</tr>\n",
       "<tr>\n",
       "  <th>Kurtosis:</th>      <td>17.405</td>  <th>  Cond. No.          </th> <td>3.51e+07</td>\n",
       "</tr>\n",
       "</table><br/><br/>Warnings:<br/>[1] Standard Errors assume that the covariance matrix of the errors is correctly specified.<br/>[2] The condition number is large, 3.51e+07. This might indicate that there are<br/>strong multicollinearity or other numerical problems."
      ],
      "text/plain": [
       "<class 'statsmodels.iolib.summary.Summary'>\n",
       "\"\"\"\n",
       "                                OLS Regression Results                                \n",
       "======================================================================================\n",
       "Dep. Variable:     Y house price of unit area   R-squared:                       0.585\n",
       "Model:                                    OLS   Adj. R-squared:                  0.576\n",
       "Method:                         Least Squares   F-statistic:                     64.99\n",
       "Date:                        Tue, 16 Mar 2021   Prob (F-statistic):           6.05e-58\n",
       "Time:                                18:09:07   Log-Likelihood:                -1202.8\n",
       "No. Observations:                         331   AIC:                             2422.\n",
       "Df Residuals:                             323   BIC:                             2452.\n",
       "Df Model:                                   7                                         \n",
       "Covariance Type:                    nonrobust                                         \n",
       "==========================================================================================================\n",
       "                                             coef    std err          t      P>|t|      [0.025      0.975]\n",
       "----------------------------------------------------------------------------------------------------------\n",
       "const                                  -8369.2102   7488.265     -1.118      0.265   -2.31e+04    6362.720\n",
       "No                                        -0.0041      0.004     -0.961      0.337      -0.012       0.004\n",
       "X1 transaction date                        3.1645      1.086      2.913      0.004       1.027       5.302\n",
       "X2 house age                              -0.2733      0.045     -6.089      0.000      -0.362      -0.185\n",
       "X3 distance to the nearest MRT station    -0.0047      0.001     -5.614      0.000      -0.006      -0.003\n",
       "X4 number of convenience stores            1.2043      0.218      5.531      0.000       0.776       1.633\n",
       "X5 latitude                              242.8168     52.630      4.614      0.000     139.275     346.358\n",
       "X6 longitude                             -33.0706     57.752     -0.573      0.567    -146.689      80.548\n",
       "==============================================================================\n",
       "Omnibus:                      196.613   Durbin-Watson:                   2.014\n",
       "Prob(Omnibus):                  0.000   Jarque-Bera (JB):             3108.635\n",
       "Skew:                           2.115   Prob(JB):                         0.00\n",
       "Kurtosis:                      17.405   Cond. No.                     3.51e+07\n",
       "==============================================================================\n",
       "\n",
       "Warnings:\n",
       "[1] Standard Errors assume that the covariance matrix of the errors is correctly specified.\n",
       "[2] The condition number is large, 3.51e+07. This might indicate that there are\n",
       "strong multicollinearity or other numerical problems.\n",
       "\"\"\""
      ]
     },
     "execution_count": 26,
     "metadata": {},
     "output_type": "execute_result"
    }
   ],
   "source": [
    "print(\"Training Data R-Squared:\", round(training_results.rsquared,3))\n",
    "training_results.summary()"
   ]
  },
  {
   "cell_type": "markdown",
   "metadata": {},
   "source": [
    "The training set model returned an R-Squared of .336, this is not an ideal score.The good thing is that the model is not overfit. I'd like to see if I can improve this. "
   ]
  },
  {
   "cell_type": "markdown",
   "metadata": {},
   "source": [
    "## Assessing and Redefining the Model"
   ]
  },
  {
   "cell_type": "markdown",
   "metadata": {},
   "source": [
    "My baseline model, using all the appropriate features, returned an r-squared value of .585 on my training data. Let's see if I can improve this "
   ]
  },
  {
   "cell_type": "markdown",
   "metadata": {},
   "source": [
    "Based on the p-values in the summary table, I can see that many extraneous features exist, therefore I only want to select the features that have p-values less than 0.05. "
   ]
  },
  {
   "cell_type": "code",
   "execution_count": 27,
   "metadata": {},
   "outputs": [],
   "source": [
    "#discarding features with p-values less than .05\n",
    "base_summary = training_results.summary()\n",
    "base_p_table = base_summary.tables[1]\n",
    "base_p_table = pd.DataFrame(base_p_table.data)\n",
    "base_p_table.columns = base_p_table.iloc[0]\n",
    "base_p_table = base_p_table.drop(0)\n",
    "base_p_table = base_p_table.set_index(base_p_table.columns[0])\n",
    "\n",
    "base_p_table['P>|t|'] = base_p_table['P>|t|'].astype(float)\n",
    "x_cols = list(base_p_table[base_p_table['P>|t|'] < 0.05].index)\n",
    "\n"
   ]
  },
  {
   "cell_type": "code",
   "execution_count": 28,
   "metadata": {},
   "outputs": [
    {
     "name": "stdout",
     "output_type": "stream",
     "text": [
      "8 5\n",
      "['X1 transaction date', 'X2 house age', 'X3 distance to the nearest MRT station', 'X4 number of convenience stores', 'X5 latitude']\n"
     ]
    }
   ],
   "source": [
    "#x_cols.remove('const')\n",
    "print(len(base_p_table), len(x_cols))\n",
    "print(x_cols)"
   ]
  },
  {
   "cell_type": "code",
   "execution_count": 29,
   "metadata": {},
   "outputs": [],
   "source": [
    "#refit the new subset of features\n",
    "X_train = X_train[x_cols]\n",
    "Y_train = Y_train[['Y house price of unit area']]"
   ]
  },
  {
   "cell_type": "code",
   "execution_count": 30,
   "metadata": {},
   "outputs": [],
   "source": [
    "X_train_const = sm.add_constant(X_train)\n",
    "base_training_model = sm.OLS(Y_train, X_train_const)"
   ]
  },
  {
   "cell_type": "code",
   "execution_count": 31,
   "metadata": {},
   "outputs": [],
   "source": [
    "results1= base_training_model.fit()"
   ]
  },
  {
   "cell_type": "code",
   "execution_count": 32,
   "metadata": {},
   "outputs": [
    {
     "name": "stdout",
     "output_type": "stream",
     "text": [
      "Training Data R-Squared 0.583\n"
     ]
    },
    {
     "data": {
      "text/html": [
       "<table class=\"simpletable\">\n",
       "<caption>OLS Regression Results</caption>\n",
       "<tr>\n",
       "  <th>Dep. Variable:</th>    <td>Y house price of unit area</td> <th>  R-squared:         </th> <td>   0.583</td>\n",
       "</tr>\n",
       "<tr>\n",
       "  <th>Model:</th>                        <td>OLS</td>            <th>  Adj. R-squared:    </th> <td>   0.577</td>\n",
       "</tr>\n",
       "<tr>\n",
       "  <th>Method:</th>                  <td>Least Squares</td>       <th>  F-statistic:       </th> <td>   90.96</td>\n",
       "</tr>\n",
       "<tr>\n",
       "  <th>Date:</th>                  <td>Tue, 16 Mar 2021</td>      <th>  Prob (F-statistic):</th> <td>1.21e-59</td>\n",
       "</tr>\n",
       "<tr>\n",
       "  <th>Time:</th>                      <td>18:09:07</td>          <th>  Log-Likelihood:    </th> <td> -1203.5</td>\n",
       "</tr>\n",
       "<tr>\n",
       "  <th>No. Observations:</th>           <td>   331</td>           <th>  AIC:               </th> <td>   2419.</td>\n",
       "</tr>\n",
       "<tr>\n",
       "  <th>Df Residuals:</th>               <td>   325</td>           <th>  BIC:               </th> <td>   2442.</td>\n",
       "</tr>\n",
       "<tr>\n",
       "  <th>Df Model:</th>                   <td>     5</td>           <th>                     </th>     <td> </td>   \n",
       "</tr>\n",
       "<tr>\n",
       "  <th>Covariance Type:</th>           <td>nonrobust</td>         <th>                     </th>     <td> </td>   \n",
       "</tr>\n",
       "</table>\n",
       "<table class=\"simpletable\">\n",
       "<tr>\n",
       "                     <td></td>                       <th>coef</th>     <th>std err</th>      <th>t</th>      <th>P>|t|</th>  <th>[0.025</th>    <th>0.975]</th>  \n",
       "</tr>\n",
       "<tr>\n",
       "  <th>const</th>                                  <td>-1.239e+04</td> <td> 2525.925</td> <td>   -4.905</td> <td> 0.000</td> <td>-1.74e+04</td> <td>-7421.690</td>\n",
       "</tr>\n",
       "<tr>\n",
       "  <th>X1 transaction date</th>                    <td>    3.1259</td> <td>    1.083</td> <td>    2.886</td> <td> 0.004</td> <td>    0.995</td> <td>    5.257</td>\n",
       "</tr>\n",
       "<tr>\n",
       "  <th>X2 house age</th>                           <td>   -0.2695</td> <td>    0.045</td> <td>   -6.036</td> <td> 0.000</td> <td>   -0.357</td> <td>   -0.182</td>\n",
       "</tr>\n",
       "<tr>\n",
       "  <th>X3 distance to the nearest MRT station</th> <td>   -0.0044</td> <td>    0.001</td> <td>   -7.746</td> <td> 0.000</td> <td>   -0.005</td> <td>   -0.003</td>\n",
       "</tr>\n",
       "<tr>\n",
       "  <th>X4 number of convenience stores</th>        <td>    1.2216</td> <td>    0.217</td> <td>    5.634</td> <td> 0.000</td> <td>    0.795</td> <td>    1.648</td>\n",
       "</tr>\n",
       "<tr>\n",
       "  <th>X5 latitude</th>                            <td>  245.9758</td> <td>   52.171</td> <td>    4.715</td> <td> 0.000</td> <td>  143.340</td> <td>  348.612</td>\n",
       "</tr>\n",
       "</table>\n",
       "<table class=\"simpletable\">\n",
       "<tr>\n",
       "  <th>Omnibus:</th>       <td>196.491</td> <th>  Durbin-Watson:     </th> <td>   2.019</td>\n",
       "</tr>\n",
       "<tr>\n",
       "  <th>Prob(Omnibus):</th> <td> 0.000</td>  <th>  Jarque-Bera (JB):  </th> <td>3080.840</td>\n",
       "</tr>\n",
       "<tr>\n",
       "  <th>Skew:</th>          <td> 2.117</td>  <th>  Prob(JB):          </th> <td>    0.00</td>\n",
       "</tr>\n",
       "<tr>\n",
       "  <th>Kurtosis:</th>      <td>17.334</td>  <th>  Cond. No.          </th> <td>1.18e+07</td>\n",
       "</tr>\n",
       "</table><br/><br/>Warnings:<br/>[1] Standard Errors assume that the covariance matrix of the errors is correctly specified.<br/>[2] The condition number is large, 1.18e+07. This might indicate that there are<br/>strong multicollinearity or other numerical problems."
      ],
      "text/plain": [
       "<class 'statsmodels.iolib.summary.Summary'>\n",
       "\"\"\"\n",
       "                                OLS Regression Results                                \n",
       "======================================================================================\n",
       "Dep. Variable:     Y house price of unit area   R-squared:                       0.583\n",
       "Model:                                    OLS   Adj. R-squared:                  0.577\n",
       "Method:                         Least Squares   F-statistic:                     90.96\n",
       "Date:                        Tue, 16 Mar 2021   Prob (F-statistic):           1.21e-59\n",
       "Time:                                18:09:07   Log-Likelihood:                -1203.5\n",
       "No. Observations:                         331   AIC:                             2419.\n",
       "Df Residuals:                             325   BIC:                             2442.\n",
       "Df Model:                                   5                                         \n",
       "Covariance Type:                    nonrobust                                         \n",
       "==========================================================================================================\n",
       "                                             coef    std err          t      P>|t|      [0.025      0.975]\n",
       "----------------------------------------------------------------------------------------------------------\n",
       "const                                  -1.239e+04   2525.925     -4.905      0.000   -1.74e+04   -7421.690\n",
       "X1 transaction date                        3.1259      1.083      2.886      0.004       0.995       5.257\n",
       "X2 house age                              -0.2695      0.045     -6.036      0.000      -0.357      -0.182\n",
       "X3 distance to the nearest MRT station    -0.0044      0.001     -7.746      0.000      -0.005      -0.003\n",
       "X4 number of convenience stores            1.2216      0.217      5.634      0.000       0.795       1.648\n",
       "X5 latitude                              245.9758     52.171      4.715      0.000     143.340     348.612\n",
       "==============================================================================\n",
       "Omnibus:                      196.491   Durbin-Watson:                   2.019\n",
       "Prob(Omnibus):                  0.000   Jarque-Bera (JB):             3080.840\n",
       "Skew:                           2.117   Prob(JB):                         0.00\n",
       "Kurtosis:                      17.334   Cond. No.                     1.18e+07\n",
       "==============================================================================\n",
       "\n",
       "Warnings:\n",
       "[1] Standard Errors assume that the covariance matrix of the errors is correctly specified.\n",
       "[2] The condition number is large, 1.18e+07. This might indicate that there are\n",
       "strong multicollinearity or other numerical problems.\n",
       "\"\"\""
      ]
     },
     "execution_count": 32,
     "metadata": {},
     "output_type": "execute_result"
    }
   ],
   "source": [
    "print(\"Training Data R-Squared\", round(results1.rsquared,3))\n",
    "results1.summary()"
   ]
  },
  {
   "cell_type": "markdown",
   "metadata": {},
   "source": [
    "My training data r-squared dropped to a .583 from .585 when taking only the significant features"
   ]
  },
  {
   "cell_type": "markdown",
   "metadata": {},
   "source": [
    "### Checking for Multicollinearity"
   ]
  },
  {
   "cell_type": "code",
   "execution_count": 33,
   "metadata": {},
   "outputs": [],
   "source": [
    "from statsmodels.stats.outliers_influence import variance_inflation_factor"
   ]
  },
  {
   "cell_type": "code",
   "execution_count": 34,
   "metadata": {},
   "outputs": [
    {
     "data": {
      "text/plain": [
       "[('X1 transaction date', 4870966.68011051),\n",
       " ('X2 house age', 3.3626750225040505),\n",
       " ('X3 distance to the nearest MRT station', 3.306893862339119),\n",
       " ('X4 number of convenience stores', 4.701102393116749),\n",
       " ('X5 latitude', 4869958.12795954)]"
      ]
     },
     "execution_count": 34,
     "metadata": {},
     "output_type": "execute_result"
    }
   ],
   "source": [
    "#Here I will perform a variance inflation factor test to identify features that display multicollinearity\n",
    "X = data[x_cols]\n",
    "vif = [variance_inflation_factor(X.values, i) for i in range(X.shape[1])]\n",
    "list(zip(x_cols, vif))"
   ]
  },
  {
   "cell_type": "markdown",
   "metadata": {},
   "source": [
    "I am going to drop any features that display a vif of more than 10, these features display too much collinearity, these features are transaction data and latitude. "
   ]
  },
  {
   "cell_type": "code",
   "execution_count": 35,
   "metadata": {},
   "outputs": [],
   "source": [
    "x_cols.remove('X1 transaction date')\n",
    "x_cols.remove('X5 latitude')"
   ]
  },
  {
   "cell_type": "code",
   "execution_count": 36,
   "metadata": {},
   "outputs": [
    {
     "data": {
      "text/plain": [
       "['X2 house age',\n",
       " 'X3 distance to the nearest MRT station',\n",
       " 'X4 number of convenience stores']"
      ]
     },
     "execution_count": 36,
     "metadata": {},
     "output_type": "execute_result"
    }
   ],
   "source": [
    "x_cols"
   ]
  },
  {
   "cell_type": "code",
   "execution_count": 37,
   "metadata": {},
   "outputs": [],
   "source": [
    "#refit with subset features\n",
    "X_train = X_train[x_cols]\n",
    "Y_train = Y_train[['Y house price of unit area']]"
   ]
  },
  {
   "cell_type": "code",
   "execution_count": 38,
   "metadata": {},
   "outputs": [],
   "source": [
    "X_train_const = sm.add_constant(X_train)\n",
    "base_training_model = sm.OLS(Y_train, X_train_const); "
   ]
  },
  {
   "cell_type": "code",
   "execution_count": 39,
   "metadata": {},
   "outputs": [],
   "source": [
    "results2 = base_training_model.fit()"
   ]
  },
  {
   "cell_type": "code",
   "execution_count": 40,
   "metadata": {},
   "outputs": [
    {
     "name": "stdout",
     "output_type": "stream",
     "text": [
      "Training Data R-Squared: 0.544\n"
     ]
    },
    {
     "data": {
      "text/html": [
       "<table class=\"simpletable\">\n",
       "<caption>OLS Regression Results</caption>\n",
       "<tr>\n",
       "  <th>Dep. Variable:</th>    <td>Y house price of unit area</td> <th>  R-squared:         </th> <td>   0.544</td>\n",
       "</tr>\n",
       "<tr>\n",
       "  <th>Model:</th>                        <td>OLS</td>            <th>  Adj. R-squared:    </th> <td>   0.539</td>\n",
       "</tr>\n",
       "<tr>\n",
       "  <th>Method:</th>                  <td>Least Squares</td>       <th>  F-statistic:       </th> <td>   129.8</td>\n",
       "</tr>\n",
       "<tr>\n",
       "  <th>Date:</th>                  <td>Tue, 16 Mar 2021</td>      <th>  Prob (F-statistic):</th> <td>2.14e-55</td>\n",
       "</tr>\n",
       "<tr>\n",
       "  <th>Time:</th>                      <td>18:09:07</td>          <th>  Log-Likelihood:    </th> <td> -1218.5</td>\n",
       "</tr>\n",
       "<tr>\n",
       "  <th>No. Observations:</th>           <td>   331</td>           <th>  AIC:               </th> <td>   2445.</td>\n",
       "</tr>\n",
       "<tr>\n",
       "  <th>Df Residuals:</th>               <td>   327</td>           <th>  BIC:               </th> <td>   2460.</td>\n",
       "</tr>\n",
       "<tr>\n",
       "  <th>Df Model:</th>                   <td>     3</td>           <th>                     </th>     <td> </td>   \n",
       "</tr>\n",
       "<tr>\n",
       "  <th>Covariance Type:</th>           <td>nonrobust</td>         <th>                     </th>     <td> </td>   \n",
       "</tr>\n",
       "</table>\n",
       "<table class=\"simpletable\">\n",
       "<tr>\n",
       "                     <td></td>                       <th>coef</th>     <th>std err</th>      <th>t</th>      <th>P>|t|</th>  <th>[0.025</th>    <th>0.975]</th>  \n",
       "</tr>\n",
       "<tr>\n",
       "  <th>const</th>                                  <td>   42.5641</td> <td>    1.613</td> <td>   26.391</td> <td> 0.000</td> <td>   39.391</td> <td>   45.737</td>\n",
       "</tr>\n",
       "<tr>\n",
       "  <th>X2 house age</th>                           <td>   -0.2453</td> <td>    0.046</td> <td>   -5.292</td> <td> 0.000</td> <td>   -0.337</td> <td>   -0.154</td>\n",
       "</tr>\n",
       "<tr>\n",
       "  <th>X3 distance to the nearest MRT station</th> <td>   -0.0056</td> <td>    0.001</td> <td>  -10.660</td> <td> 0.000</td> <td>   -0.007</td> <td>   -0.005</td>\n",
       "</tr>\n",
       "<tr>\n",
       "  <th>X4 number of convenience stores</th>        <td>    1.3676</td> <td>    0.223</td> <td>    6.120</td> <td> 0.000</td> <td>    0.928</td> <td>    1.807</td>\n",
       "</tr>\n",
       "</table>\n",
       "<table class=\"simpletable\">\n",
       "<tr>\n",
       "  <th>Omnibus:</th>       <td>188.782</td> <th>  Durbin-Watson:     </th> <td>   2.038</td>\n",
       "</tr>\n",
       "<tr>\n",
       "  <th>Prob(Omnibus):</th> <td> 0.000</td>  <th>  Jarque-Bera (JB):  </th> <td>2654.908</td>\n",
       "</tr>\n",
       "<tr>\n",
       "  <th>Skew:</th>          <td> 2.041</td>  <th>  Prob(JB):          </th> <td>    0.00</td>\n",
       "</tr>\n",
       "<tr>\n",
       "  <th>Kurtosis:</th>      <td>16.260</td>  <th>  Cond. No.          </th> <td>5.06e+03</td>\n",
       "</tr>\n",
       "</table><br/><br/>Warnings:<br/>[1] Standard Errors assume that the covariance matrix of the errors is correctly specified.<br/>[2] The condition number is large, 5.06e+03. This might indicate that there are<br/>strong multicollinearity or other numerical problems."
      ],
      "text/plain": [
       "<class 'statsmodels.iolib.summary.Summary'>\n",
       "\"\"\"\n",
       "                                OLS Regression Results                                \n",
       "======================================================================================\n",
       "Dep. Variable:     Y house price of unit area   R-squared:                       0.544\n",
       "Model:                                    OLS   Adj. R-squared:                  0.539\n",
       "Method:                         Least Squares   F-statistic:                     129.8\n",
       "Date:                        Tue, 16 Mar 2021   Prob (F-statistic):           2.14e-55\n",
       "Time:                                18:09:07   Log-Likelihood:                -1218.5\n",
       "No. Observations:                         331   AIC:                             2445.\n",
       "Df Residuals:                             327   BIC:                             2460.\n",
       "Df Model:                                   3                                         \n",
       "Covariance Type:                    nonrobust                                         \n",
       "==========================================================================================================\n",
       "                                             coef    std err          t      P>|t|      [0.025      0.975]\n",
       "----------------------------------------------------------------------------------------------------------\n",
       "const                                     42.5641      1.613     26.391      0.000      39.391      45.737\n",
       "X2 house age                              -0.2453      0.046     -5.292      0.000      -0.337      -0.154\n",
       "X3 distance to the nearest MRT station    -0.0056      0.001    -10.660      0.000      -0.007      -0.005\n",
       "X4 number of convenience stores            1.3676      0.223      6.120      0.000       0.928       1.807\n",
       "==============================================================================\n",
       "Omnibus:                      188.782   Durbin-Watson:                   2.038\n",
       "Prob(Omnibus):                  0.000   Jarque-Bera (JB):             2654.908\n",
       "Skew:                           2.041   Prob(JB):                         0.00\n",
       "Kurtosis:                      16.260   Cond. No.                     5.06e+03\n",
       "==============================================================================\n",
       "\n",
       "Warnings:\n",
       "[1] Standard Errors assume that the covariance matrix of the errors is correctly specified.\n",
       "[2] The condition number is large, 5.06e+03. This might indicate that there are\n",
       "strong multicollinearity or other numerical problems.\n",
       "\"\"\""
      ]
     },
     "execution_count": 40,
     "metadata": {},
     "output_type": "execute_result"
    }
   ],
   "source": [
    "print(\"Training Data R-Squared:\", round(results2.rsquared,3))\n",
    "results2.summary()"
   ]
  },
  {
   "cell_type": "markdown",
   "metadata": {},
   "source": [
    "My model achieves an r-square of .544 which takea a further hit on accuracy but I have also removed features that are highly correlated with one number. "
   ]
  },
  {
   "cell_type": "markdown",
   "metadata": {},
   "source": [
    "# Building a Bottom-up Model"
   ]
  },
  {
   "cell_type": "code",
   "execution_count": 41,
   "metadata": {},
   "outputs": [
    {
     "name": "stdout",
     "output_type": "stream",
     "text": [
      "(331, 7)\n",
      "(331, 1)\n"
     ]
    }
   ],
   "source": [
    "#recall the original 80/20 split for train and test data\n",
    "X_train, X_test, Y_train, Y_test = train_test_split(X_base, Y_base, test_size=.2, random_state=42)\n",
    "print(X_train.shape)\n",
    "print(Y_train.shape)"
   ]
  },
  {
   "cell_type": "code",
   "execution_count": 42,
   "metadata": {},
   "outputs": [],
   "source": [
    "#Select features that are known to predict house prices within a strong degree of accuracy and taking into account \n",
    "#multicollinearity\n",
    "X_train = X_train[['X2 house age', 'X3 distance to the nearest MRT station', 'X4 number of convenience stores']]\n",
    "Y_train = Y_train[['Y house price of unit area']]\n",
    "X_test = X_test[['X2 house age', 'X3 distance to the nearest MRT station', 'X4 number of convenience stores']]\n",
    "Y_test = Y_test[['Y house price of unit area']]"
   ]
  },
  {
   "cell_type": "code",
   "execution_count": 43,
   "metadata": {},
   "outputs": [],
   "source": [
    "X_train_const = sm.add_constant(X_train)\n",
    "base_training_model = sm.OLS(Y_train, X_train_const); "
   ]
  },
  {
   "cell_type": "code",
   "execution_count": 44,
   "metadata": {},
   "outputs": [],
   "source": [
    "results3 = base_training_model.fit()"
   ]
  },
  {
   "cell_type": "code",
   "execution_count": 45,
   "metadata": {},
   "outputs": [
    {
     "data": {
      "text/html": [
       "<table class=\"simpletable\">\n",
       "<caption>OLS Regression Results</caption>\n",
       "<tr>\n",
       "  <th>Dep. Variable:</th>    <td>Y house price of unit area</td> <th>  R-squared:         </th> <td>   0.515</td>\n",
       "</tr>\n",
       "<tr>\n",
       "  <th>Model:</th>                        <td>OLS</td>            <th>  Adj. R-squared:    </th> <td>   0.510</td>\n",
       "</tr>\n",
       "<tr>\n",
       "  <th>Method:</th>                  <td>Least Squares</td>       <th>  F-statistic:       </th> <td>   115.5</td>\n",
       "</tr>\n",
       "<tr>\n",
       "  <th>Date:</th>                  <td>Tue, 16 Mar 2021</td>      <th>  Prob (F-statistic):</th> <td>5.08e-51</td>\n",
       "</tr>\n",
       "<tr>\n",
       "  <th>Time:</th>                      <td>18:09:07</td>          <th>  Log-Likelihood:    </th> <td> -1216.8</td>\n",
       "</tr>\n",
       "<tr>\n",
       "  <th>No. Observations:</th>           <td>   331</td>           <th>  AIC:               </th> <td>   2442.</td>\n",
       "</tr>\n",
       "<tr>\n",
       "  <th>Df Residuals:</th>               <td>   327</td>           <th>  BIC:               </th> <td>   2457.</td>\n",
       "</tr>\n",
       "<tr>\n",
       "  <th>Df Model:</th>                   <td>     3</td>           <th>                     </th>     <td> </td>   \n",
       "</tr>\n",
       "<tr>\n",
       "  <th>Covariance Type:</th>           <td>nonrobust</td>         <th>                     </th>     <td> </td>   \n",
       "</tr>\n",
       "</table>\n",
       "<table class=\"simpletable\">\n",
       "<tr>\n",
       "                     <td></td>                       <th>coef</th>     <th>std err</th>      <th>t</th>      <th>P>|t|</th>  <th>[0.025</th>    <th>0.975]</th>  \n",
       "</tr>\n",
       "<tr>\n",
       "  <th>const</th>                                  <td>   43.4342</td> <td>    1.614</td> <td>   26.908</td> <td> 0.000</td> <td>   40.259</td> <td>   46.610</td>\n",
       "</tr>\n",
       "<tr>\n",
       "  <th>X2 house age</th>                           <td>   -0.2592</td> <td>    0.047</td> <td>   -5.500</td> <td> 0.000</td> <td>   -0.352</td> <td>   -0.166</td>\n",
       "</tr>\n",
       "<tr>\n",
       "  <th>X3 distance to the nearest MRT station</th> <td>   -0.0055</td> <td>    0.001</td> <td>  -10.021</td> <td> 0.000</td> <td>   -0.007</td> <td>   -0.004</td>\n",
       "</tr>\n",
       "<tr>\n",
       "  <th>X4 number of convenience stores</th>        <td>    1.2449</td> <td>    0.227</td> <td>    5.495</td> <td> 0.000</td> <td>    0.799</td> <td>    1.691</td>\n",
       "</tr>\n",
       "</table>\n",
       "<table class=\"simpletable\">\n",
       "<tr>\n",
       "  <th>Omnibus:</th>       <td>189.260</td> <th>  Durbin-Watson:     </th> <td>   1.968</td>\n",
       "</tr>\n",
       "<tr>\n",
       "  <th>Prob(Omnibus):</th> <td> 0.000</td>  <th>  Jarque-Bera (JB):  </th> <td>2605.874</td>\n",
       "</tr>\n",
       "<tr>\n",
       "  <th>Skew:</th>          <td> 2.057</td>  <th>  Prob(JB):          </th> <td>    0.00</td>\n",
       "</tr>\n",
       "<tr>\n",
       "  <th>Kurtosis:</th>      <td>16.116</td>  <th>  Cond. No.          </th> <td>4.95e+03</td>\n",
       "</tr>\n",
       "</table><br/><br/>Warnings:<br/>[1] Standard Errors assume that the covariance matrix of the errors is correctly specified.<br/>[2] The condition number is large, 4.95e+03. This might indicate that there are<br/>strong multicollinearity or other numerical problems."
      ],
      "text/plain": [
       "<class 'statsmodels.iolib.summary.Summary'>\n",
       "\"\"\"\n",
       "                                OLS Regression Results                                \n",
       "======================================================================================\n",
       "Dep. Variable:     Y house price of unit area   R-squared:                       0.515\n",
       "Model:                                    OLS   Adj. R-squared:                  0.510\n",
       "Method:                         Least Squares   F-statistic:                     115.5\n",
       "Date:                        Tue, 16 Mar 2021   Prob (F-statistic):           5.08e-51\n",
       "Time:                                18:09:07   Log-Likelihood:                -1216.8\n",
       "No. Observations:                         331   AIC:                             2442.\n",
       "Df Residuals:                             327   BIC:                             2457.\n",
       "Df Model:                                   3                                         \n",
       "Covariance Type:                    nonrobust                                         \n",
       "==========================================================================================================\n",
       "                                             coef    std err          t      P>|t|      [0.025      0.975]\n",
       "----------------------------------------------------------------------------------------------------------\n",
       "const                                     43.4342      1.614     26.908      0.000      40.259      46.610\n",
       "X2 house age                              -0.2592      0.047     -5.500      0.000      -0.352      -0.166\n",
       "X3 distance to the nearest MRT station    -0.0055      0.001    -10.021      0.000      -0.007      -0.004\n",
       "X4 number of convenience stores            1.2449      0.227      5.495      0.000       0.799       1.691\n",
       "==============================================================================\n",
       "Omnibus:                      189.260   Durbin-Watson:                   1.968\n",
       "Prob(Omnibus):                  0.000   Jarque-Bera (JB):             2605.874\n",
       "Skew:                           2.057   Prob(JB):                         0.00\n",
       "Kurtosis:                      16.116   Cond. No.                     4.95e+03\n",
       "==============================================================================\n",
       "\n",
       "Warnings:\n",
       "[1] Standard Errors assume that the covariance matrix of the errors is correctly specified.\n",
       "[2] The condition number is large, 4.95e+03. This might indicate that there are\n",
       "strong multicollinearity or other numerical problems.\n",
       "\"\"\""
      ]
     },
     "execution_count": 45,
     "metadata": {},
     "output_type": "execute_result"
    }
   ],
   "source": [
    "results3.summary()"
   ]
  },
  {
   "cell_type": "markdown",
   "metadata": {},
   "source": [
    "My model has performed lower than beforehand, after attempting to drop extra variables"
   ]
  },
  {
   "cell_type": "code",
   "execution_count": 46,
   "metadata": {},
   "outputs": [
    {
     "data": {
      "text/plain": [
       "False"
      ]
     },
     "execution_count": 46,
     "metadata": {},
     "output_type": "execute_result"
    },
    {
     "data": {
      "image/png": "[encoded data removed]",
      "text/plain": [
       "<Figure size 432x288 with 1 Axes>"
      ]
     },
     "metadata": {
      "needs_background": "light"
     },
     "output_type": "display_data"
    }
   ],
   "source": [
    "#I now want to check for the normality assumption\n",
    "import scipy.stats as stats\n",
    "fig == sm.graphics.qqplot(results3.resid, dist=stats.norm, line='45', fit=True)\n"
   ]
  },
  {
   "cell_type": "markdown",
   "metadata": {},
   "source": [
    "Here, the normality assumption does seem to hold. It looks like there isn't a lot of skewed data. "
   ]
  },
  {
   "cell_type": "code",
   "execution_count": 47,
   "metadata": {},
   "outputs": [
    {
     "data": {
      "image/png": "[encoded data removed]",
      "text/plain": [
       "<Figure size 432x288 with 1 Axes>"
      ]
     },
     "metadata": {
      "needs_background": "light"
     },
     "output_type": "display_data"
    }
   ],
   "source": [
    "#I want to check for homoscedasticity\n",
    "plt.scatter(results3.predict(X_train_const), results3.resid)\n",
    "plt.plot(results3.predict(X_train_const), [0 for i in range(len(X_train_const))])\n",
    "plt.show()"
   ]
  },
  {
   "cell_type": "markdown",
   "metadata": {},
   "source": [
    "Here, the homoscedastic assumption is being violated as variance increases. "
   ]
  },
  {
   "cell_type": "markdown",
   "metadata": {},
   "source": [
    "## Dropping Outliers"
   ]
  },
  {
   "cell_type": "code",
   "execution_count": null,
   "metadata": {},
   "outputs": [],
   "source": []
  }
 ],
 "metadata": {
  "kernelspec": {
   "display_name": "Python 3",
   "language": "python",
   "name": "python3"
  },
  "language_info": {
   "codemirror_mode": {
    "name": "ipython",
    "version": 3
   },
   "file_extension": ".py",
   "mimetype": "text/x-python",
   "name": "python",
   "nbconvert_exporter": "python",
   "pygments_lexer": "ipython3",
   "version": "3.7.4"
  }
 },
 "nbformat": 4,
 "nbformat_minor": 2
}
